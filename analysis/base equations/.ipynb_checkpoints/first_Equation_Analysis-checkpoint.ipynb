{
 "cells": [
  {
   "cell_type": "code",
   "execution_count": 2,
   "id": "5f534c69-abeb-4647-9d57-970851b41341",
   "metadata": {},
   "outputs": [
    {
     "name": "stdout",
     "output_type": "stream",
     "text": [
      "first order [0.49089875 0.05454705 0.21818182]\n",
      "total order [0.65454535 0.29096914 0.29090906]\n"
     ]
    }
   ],
   "source": [
    "import numpy as np\n",
    "from scipy.stats import sobol_indices, uniform\n",
    "rng = np.random.default_rng()\n",
    "def f_eq1(x):\n",
    "    # x[0] = k, or discharge coefficient\n",
    "    # x[1] = gamma_g, geometric porosity\n",
    "    # x[2] = c_e, effective porosity\n",
    "    f_eval = (\n",
    "        x[0] * x[1]\n",
    "        + (1 - x[1]) * x[2]\n",
    "    )\n",
    "    return f_eval\n",
    "indices = sobol_indices(\n",
    "    func=f_eq1, n=2**14,\n",
    "    dists=[\n",
    "        uniform(loc= 0, scale= 1.5),\n",
    "        uniform(loc= 0, scale=1),\n",
    "        uniform(loc= 0, scale=1)\n",
    "    ],\n",
    "    random_state=rng\n",
    ")\n",
    "print(\"first order\" , indices.first_order)\n",
    "print(\"total order\", indices.total_order)"
   ]
  },
  {
   "cell_type": "code",
   "execution_count": 3,
   "id": "46c0bafd-7951-4b72-8436-64b84f51497c",
   "metadata": {},
   "outputs": [],
   "source": [
    "boot = indices.bootstrap()"
   ]
  },
  {
   "cell_type": "code",
   "execution_count": 4,
   "id": "65ea7cb9-cb8a-424d-a914-f6629cf7bdd7",
   "metadata": {},
   "outputs": [
    {
     "data": {
      "image/png": "[encoded data removed]",
      "text/plain": [
       "<Figure size 900x400 with 2 Axes>"
      ]
     },
     "metadata": {},
     "output_type": "display_data"
    }
   ],
   "source": [
    "import matplotlib.pyplot as plt\n",
    "fig, axs = plt.subplots(1, 2, figsize=(9, 4))\n",
    "_ = axs[0].errorbar(\n",
    "    ['k', '$ɣ_g$', '$c_e$'], indices.first_order, fmt='o',\n",
    "    yerr=[\n",
    "        indices.first_order - boot.first_order.confidence_interval.low,\n",
    "        boot.first_order.confidence_interval.high - indices.first_order\n",
    "    ],\n",
    ")\n",
    "axs[0].set_ylabel(\"First order Sobol' indices\")\n",
    "axs[0].set_xlabel('Input parameters')\n",
    "axs[0].set_xticks(['k', '$ɣ_g$', '$c_e$'])\n",
    "_ = axs[1].errorbar(\n",
    "    ['k', '$ɣ_g$', '$c_e$'], indices.total_order, fmt='o',\n",
    "    yerr=[\n",
    "        indices.total_order - boot.total_order.confidence_interval.low,\n",
    "        boot.total_order.confidence_interval.high - indices.total_order\n",
    "    ],\n",
    ")\n",
    "axs[1].set_ylabel(\"Total order Sobol' indices\")\n",
    "axs[1].set_xlabel('Input parameters')\n",
    "axs[1].set_xticks(['k', '$ɣ_g$', '$c_e$'])\n",
    "plt.tight_layout()\n",
    "plt.show()"
   ]
  },
  {
   "cell_type": "code",
   "execution_count": null,
   "id": "65b950e6-61f5-4de6-9b28-986d67e82812",
   "metadata": {},
   "outputs": [],
   "source": [
    "from scipy.stats import qmc\n",
    "n_dim = 3\n",
    "p_labels = ['k', '$ɣ_g$', '$c_e$']\n",
    "sample = qmc.Sobol(d=n_dim, seed=rng).random(1024)\n",
    "sample = qmc.scale(\n",
    "    sample=sample,\n",
    "    l_bounds=[0, 0, 0],\n",
    "    u_bounds=[1.5, 1, 1]\n",
    ")\n",
    "output = f_eq1(sample.T)"
   ]
  },
  {
   "cell_type": "code",
   "execution_count": null,
   "id": "3575504e-e5bc-443d-9e63-c7b5000b605c",
   "metadata": {},
   "outputs": [],
   "source": [
    "fig, ax = plt.subplots(1, n_dim, figsize=(12, 4))\n",
    "for i in range(n_dim):\n",
    "    xi = sample[:, i]\n",
    "    ax[i].scatter(xi, output, marker='+')\n",
    "    ax[i].set_xlabel(p_labels[i])\n",
    "ax[0].set_ylabel('Y')\n",
    "plt.tight_layout()\n",
    "plt.show()"
   ]
  },
  {
   "cell_type": "code",
   "execution_count": null,
   "id": "1baadbcd-9104-4bbb-9c12-7dc0d8fa6ebd",
   "metadata": {},
   "outputs": [],
   "source": [
    "mini = np.min(output)\n",
    "maxi = np.max(output)\n",
    "n_bins = 10\n",
    "bins = np.linspace(0, 1.5, num=n_bins, endpoint=False)\n",
    "dx = bins[1] - bins[0]\n",
    "fig, ax = plt.subplots(1, 1, figsize=(4, 4))\n",
    "xi = sample[:, 0]\n",
    "ax.scatter(xi, output, marker='+')\n",
    "ax.set_xlabel(p_labels[i])\n",
    "for bin_ in bins:\n",
    "    idx = np.where((bin_ <= xi) & (xi <= bin_ + dx))\n",
    "    xi_ = xi[idx]\n",
    "    y_ = output[idx]\n",
    "    ave_y_ = np.mean(y_)\n",
    "    ax.plot([bin_ + dx/2] * 2, [mini, maxi], c='k')\n",
    "    ax.scatter(bin_ + dx/2, ave_y_, c='r')\n",
    "ax.set_ylabel('Y')\n",
    "plt.tight_layout()\n",
    "plt.show()"
   ]
  },
  {
   "cell_type": "code",
   "execution_count": null,
   "id": "875be093-239e-4aad-849c-0f0882c9cf18",
   "metadata": {},
   "outputs": [],
   "source": [
    "mini = np.min(output)\n",
    "maxi = np.max(output)\n",
    "n_bins = 10\n",
    "bins = np.linspace(0, 1, num=n_bins, endpoint=False)\n",
    "dx = bins[1] - bins[0]\n",
    "fig, ax = plt.subplots(1, 1, figsize=(4, 4))\n",
    "xi = sample[:, 1]\n",
    "ax.scatter(xi, output, marker='+')\n",
    "ax.set_xlabel(p_labels[1])\n",
    "for bin_ in bins:\n",
    "    idx = np.where((bin_ <= xi) & (xi <= bin_ + dx))\n",
    "    xi_ = xi[idx]\n",
    "    y_ = output[idx]\n",
    "    ave_y_ = np.mean(y_)\n",
    "    ax.plot([bin_ + dx/2] * 2, [mini, maxi], c='k')\n",
    "    ax.scatter(bin_ + dx/2, ave_y_, c='r')\n",
    "ax.set_ylabel('Y')\n",
    "plt.tight_layout()\n",
    "plt.show()"
   ]
  },
  {
   "cell_type": "code",
   "execution_count": null,
   "id": "78d0eb92-d05c-434f-8d52-460553eb6a57",
   "metadata": {},
   "outputs": [],
   "source": [
    "mini = np.min(output)\n",
    "maxi = np.max(output)\n",
    "n_bins = 10\n",
    "bins = np.linspace(0, 1, num=n_bins, endpoint=False)\n",
    "dx = bins[1] - bins[0]\n",
    "fig, ax = plt.subplots(1, 1, figsize=(4, 4))\n",
    "xi = sample[:, 2]\n",
    "ax.scatter(xi, output, marker='+')\n",
    "ax.set_xlabel(p_labels[2])\n",
    "for bin_ in bins:\n",
    "    idx = np.where((bin_ <= xi) & (xi <= bin_ + dx))\n",
    "    xi_ = xi[idx]\n",
    "    y_ = output[idx]\n",
    "    ave_y_ = np.mean(y_)\n",
    "    ax.plot([bin_ + dx/2] * 2, [mini, maxi], c='k')\n",
    "    ax.scatter(bin_ + dx/2, ave_y_, c='r')\n",
    "ax.set_ylabel('Y')\n",
    "plt.tight_layout()\n",
    "plt.show()"
   ]
  },
  {
   "cell_type": "code",
   "execution_count": null,
   "id": "0cbf6bad-6d0d-42e1-88f8-184ca8649a42",
   "metadata": {},
   "outputs": [],
   "source": []
  }
 ],
 "metadata": {
  "kernelspec": {
   "display_name": "Python 3 (ipykernel)",
   "language": "python",
   "name": "python3"
  },
  "language_info": {
   "codemirror_mode": {
    "name": "ipython",
    "version": 3
   },
   "file_extension": ".py",
   "mimetype": "text/x-python",
   "name": "python",
   "nbconvert_exporter": "python",
   "pygments_lexer": "ipython3",
   "version": "3.12.6"
  }
 },
 "nbformat": 4,
 "nbformat_minor": 5
}
